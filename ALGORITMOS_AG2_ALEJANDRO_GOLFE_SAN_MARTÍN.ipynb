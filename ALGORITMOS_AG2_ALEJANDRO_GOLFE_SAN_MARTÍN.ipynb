{
  "nbformat": 4,
  "nbformat_minor": 0,
  "metadata": {
    "colab": {
      "name": "ALGORITMOS AG2- ALEJANDRO GOLFE SAN MARTÍN.ipynb",
      "provenance": [],
      "collapsed_sections": [],
      "include_colab_link": true
    },
    "kernelspec": {
      "display_name": "Python 3",
      "language": "python",
      "name": "python3"
    },
    "language_info": {
      "codemirror_mode": {
        "name": "ipython",
        "version": 3
      },
      "file_extension": ".py",
      "mimetype": "text/x-python",
      "name": "python",
      "nbconvert_exporter": "python",
      "pygments_lexer": "ipython3",
      "version": "3.7.4"
    }
  },
  "cells": [
    {
      "cell_type": "markdown",
      "metadata": {
        "id": "view-in-github",
        "colab_type": "text"
      },
      "source": [
        "<a href=\"https://colab.research.google.com/github/alejandrogolfe/03MIAR-Algoritmos-de-optimizacion-/blob/main/ALGORITMOS_AG2_ALEJANDRO_GOLFE_SAN_MART%C3%8DN.ipynb\" target=\"_parent\"><img src=\"https://colab.research.google.com/assets/colab-badge.svg\" alt=\"Open In Colab\"/></a>"
      ]
    },
    {
      "cell_type": "markdown",
      "metadata": {
        "id": "ta1tvzVvsKPC"
      },
      "source": [
        "#Actividad Guiada 2\n",
        "Nombre: Raul Reyero <br>\n",
        "Link: https://drive.google.com/file/d/1s-08UxFuN_jhM7b9yIKuFVohlHyjUdnc/view?usp=sharing\n",
        "\n",
        "https://github.com/alejandrogolfe/03MIAR-Algoritmos-de-optimizacion\n",
        "<br>\n",
        "\n",
        "\n"
      ]
    },
    {
      "cell_type": "markdown",
      "metadata": {
        "id": "8KXZgu57iEM5"
      },
      "source": [
        "##Viaje por el rio"
      ]
    },
    {
      "cell_type": "code",
      "metadata": {
        "id": "CrTjYluYhwzR"
      },
      "source": [
        "import math\n",
        "\n"
      ],
      "execution_count": null,
      "outputs": []
    },
    {
      "cell_type": "code",
      "metadata": {
        "id": "fbYfYWjztEjk"
      },
      "source": [
        "#Viaje por el rio - Programación dinámica\n",
        "################################################################################\n",
        "\n",
        "TARIFAS = [\n",
        "[0,5,4,3,999,999,999],   #desde nodo 0\n",
        "[999,0,999,2,3,999,11],  #desde nodo 1\n",
        "[999,999, 0,1,999,4,10], #desde nodo 2\n",
        "[999,999,999, 0,5,6,9],\n",
        "[999,999, 999,999,0,999,4],\n",
        "[999,999, 999,999,999,0,3],\n",
        "[999,999,999,999,999,999,0]\n",
        "]\n",
        "\n",
        "#999 se puede sustituir por float(\"inf\") del modulo math"
      ],
      "execution_count": null,
      "outputs": []
    },
    {
      "cell_type": "code",
      "metadata": {
        "id": "Sgre9gFBtu4F"
      },
      "source": [
        "#Calculo de la matriz de PRECIOS y RUTAS\n",
        "#  PRECIOS - contiene la matriz del mejor precio para ir de un nodo a otro\n",
        "#  RUTAS   - contiene los nodos intermedios para ir de un nodo a otro\n",
        "################################################################  \n",
        "def Precios(TARIFAS):\n",
        "################################################################ \n",
        "  #Total de Nodos\n",
        "  N = len(TARIFAS[0])\n",
        "    \n",
        "  #Inicialización de la tabla de precios\n",
        "  PRECIOS = [ [9999]*N for i in [9999]*N]  #n x n \n",
        "  RUTA = [ [\"\"]*N for i in [\"\"]*N]\n",
        "  \n",
        "  #Se recorren todos los nodos con dos bucles(origen - destino)\n",
        "  #  para ir construyendo la matriz de PRECIOS\n",
        "  for i in range(N-1):\n",
        "    for j in range(i+1, N):\n",
        "      MIN = TARIFAS[i][j]\n",
        "      RUTA[i][j] = i\n",
        "      \n",
        "      for k in range(i, j):\n",
        "        if PRECIOS[i][k] + TARIFAS[k][j] < MIN:\n",
        "            MIN = min(MIN, PRECIOS[i][k] + TARIFAS[k][j] )\n",
        "            RUTA[i][j] = k\n",
        "        PRECIOS[i][j] = MIN\n",
        "        \n",
        "  return PRECIOS,RUTA"
      ],
      "execution_count": null,
      "outputs": []
    },
    {
      "cell_type": "code",
      "metadata": {
        "colab": {
          "base_uri": "https://localhost:8080/"
        },
        "id": "YlBtqg5CwO3x",
        "outputId": "c918bde3-0d68-474f-9aeb-0037a49c2f8e"
      },
      "source": [
        "PRECIOS,RUTA = Precios(TARIFAS)  \n",
        "#print(PRECIOS[0][6])\n",
        "\n",
        "print(\"PRECIOS\")\n",
        "for i in range(len(TARIFAS)):\n",
        "  print(PRECIOS[i])\n",
        "\n",
        "print(\"\\nRUTA\")  \n",
        "for i in range(len(TARIFAS)):\n",
        "  print(RUTA[i]) "
      ],
      "execution_count": null,
      "outputs": [
        {
          "output_type": "stream",
          "text": [
            "PRECIOS\n",
            "[9999, 5, 4, 3, 8, 8, 11]\n",
            "[9999, 9999, 999, 2, 3, 8, 7]\n",
            "[9999, 9999, 9999, 1, 6, 4, 7]\n",
            "[9999, 9999, 9999, 9999, 5, 6, 9]\n",
            "[9999, 9999, 9999, 9999, 9999, 999, 4]\n",
            "[9999, 9999, 9999, 9999, 9999, 9999, 3]\n",
            "[9999, 9999, 9999, 9999, 9999, 9999, 9999]\n",
            "\n",
            "RUTA\n",
            "['', 0, 0, 0, 1, 2, 5]\n",
            "['', '', 1, 1, 1, 3, 4]\n",
            "['', '', '', 2, 3, 2, 5]\n",
            "['', '', '', '', 3, 3, 3]\n",
            "['', '', '', '', '', 4, 4]\n",
            "['', '', '', '', '', '', 5]\n",
            "['', '', '', '', '', '', '']\n"
          ],
          "name": "stdout"
        }
      ]
    },
    {
      "cell_type": "code",
      "metadata": {
        "colab": {
          "base_uri": "https://localhost:8080/",
          "height": 70
        },
        "id": "UdMZ4KzywokI",
        "outputId": "6758e93a-41ab-4c1c-811d-68b34176c5cf"
      },
      "source": [
        "#Calculo de la ruta usando la matriz RUTA\n",
        "def calcular_ruta(RUTA, desde, hasta):\n",
        "  if desde == hasta:\n",
        "    #print(\"Ir a :\" + str(desde))\n",
        "    return desde \n",
        "  else:\n",
        "    return str(calcular_ruta(RUTA, desde, RUTA[desde][hasta])) +  ',' + str(RUTA[desde][hasta]) \n",
        "\n",
        "print(\"\\nLa ruta es:\")  \n",
        "calcular_ruta(RUTA, 0,6) "
      ],
      "execution_count": null,
      "outputs": [
        {
          "output_type": "stream",
          "text": [
            "\n",
            "La ruta es:\n"
          ],
          "name": "stdout"
        },
        {
          "output_type": "execute_result",
          "data": {
            "text/plain": [
              "'0,0,2,5'"
            ]
          },
          "metadata": {
            "tags": []
          },
          "execution_count": 7
        }
      ]
    },
    {
      "cell_type": "markdown",
      "metadata": {
        "id": "HPfKYr5BiWth"
      },
      "source": [
        "##Problema de Asignacion de tarea"
      ]
    },
    {
      "cell_type": "code",
      "metadata": {
        "id": "Z7ot-cc653A5"
      },
      "source": [
        "#Asignacion de tareas - Ramificación y Poda\n",
        "################################################################################\n",
        "#    T A R E A \n",
        "#   A\n",
        "#   G\n",
        "#   E\n",
        "#   N\n",
        "#   T\n",
        "#   E\n",
        "\n",
        "COSTES=[[11,12,18,40],\n",
        "        [14,15,13,22],\n",
        "        [11,17,19,23],\n",
        "        [17,14,20,28]]\n",
        "        "
      ],
      "execution_count": null,
      "outputs": []
    },
    {
      "cell_type": "code",
      "metadata": {
        "colab": {
          "base_uri": "https://localhost:8080/"
        },
        "id": "GLrebA2z64WP",
        "outputId": "a2096b72-4eb6-40df-aadb-c73cdf92121c"
      },
      "source": [
        "#Calculo del valor de una solucion parcial\n",
        "def valor(S,COSTES):\n",
        "  VALOR = 0\n",
        "  for i in range(len(S)):\n",
        "    VALOR += COSTES[S[i]][i] \n",
        "  return VALOR\n",
        "\n",
        "\n",
        "\n",
        "valor((0, 1, 2, 3  ),COSTES)"
      ],
      "execution_count": null,
      "outputs": [
        {
          "output_type": "execute_result",
          "data": {
            "text/plain": [
              "73"
            ]
          },
          "metadata": {
            "tags": []
          },
          "execution_count": 10
        }
      ]
    },
    {
      "cell_type": "code",
      "metadata": {
        "colab": {
          "base_uri": "https://localhost:8080/"
        },
        "id": "fXG2CAq87Csv",
        "outputId": "ce49f856-e77c-41af-b3ef-2da6e047e71f"
      },
      "source": [
        "#Coste inferior para soluciones parciales\n",
        "#  (1,3,) Se asigna la tarea 1 al agente 0 y la tarea 3 al agente 1\n",
        "\n",
        "def CI(S,COSTES):\n",
        "  VALOR = 0\n",
        "  #Valores establecidos\n",
        "  for i in range(len(S)):\n",
        "    VALOR += COSTES[i][S[i]]\n",
        "\n",
        "  #Estimacion\n",
        "  for i in range( len(S), len(COSTES)   ):\n",
        "    VALOR += min( [ COSTES[j][i] for j in range(len(S), len(COSTES))  ])\n",
        "  return VALOR\n",
        "\n",
        "def CS(S,COSTES):\n",
        "  VALOR = 0\n",
        "  #Valores establecidos\n",
        "  for i in range(len(S)):\n",
        "    VALOR += COSTES[i][S[i]]\n",
        "\n",
        "  #Estimacion\n",
        "  for i in range( len(S), len(COSTES)   ):\n",
        "    VALOR += max( [ COSTES[j][i] for j in range(len(S), len(COSTES))  ])\n",
        "  return VALOR\n",
        "\n",
        "CS((0,1),COSTES)"
      ],
      "execution_count": null,
      "outputs": [
        {
          "output_type": "execute_result",
          "data": {
            "text/plain": [
              "74"
            ]
          },
          "metadata": {
            "tags": []
          },
          "execution_count": 12
        }
      ]
    },
    {
      "cell_type": "code",
      "metadata": {
        "id": "5m_aD0CH8mmZ"
      },
      "source": [
        "#Genera tantos hijos como como posibilidades haya para la siguiente elemento de la tupla\n",
        "#(0,) -> (0,1), (0,2), (0,3)\n",
        "def crear_hijos(NODO, N):\n",
        "  HIJOS = []\n",
        "  for i in range(N ):\n",
        "    if i not in NODO:\n",
        "      HIJOS.append({'s':NODO +(i,)    })\n",
        "  return HIJOS"
      ],
      "execution_count": null,
      "outputs": []
    },
    {
      "cell_type": "code",
      "metadata": {
        "colab": {
          "base_uri": "https://localhost:8080/"
        },
        "id": "CmWryVOl8wQy",
        "outputId": "8eb32f49-fab2-44ac-d4f6-1abac6ac0efe"
      },
      "source": [
        "def ramificacion_y_poda(COSTES):\n",
        "#Construccion iterativa de soluciones(arbol). En cada etapa asignamos un agente(ramas).\n",
        "#Nodos del grafo  { s:(1,2),CI:3,CS:5  }\n",
        "  #print(COSTES)\n",
        "  DIMENSION = len(COSTES)  \n",
        "  MEJOR_SOLUCION=tuple( i for i in range(len(COSTES)) )\n",
        "  CotaSup = valor(MEJOR_SOLUCION,COSTES)\n",
        "  #print(\"Cota Superior:\", CotaSup)\n",
        "\n",
        "  NODOS=[]\n",
        "  NODOS.append({'s':(), 'ci':CI((),COSTES)    } )\n",
        "\n",
        "  iteracion = 0\n",
        "\n",
        "  while( len(NODOS) > 0):\n",
        "    iteracion +=1\n",
        "\n",
        "    nodo_prometedor = [ min(NODOS, key=lambda x:x['ci']) ][0]['s']\n",
        "    #print(\"Nodo prometedor:\", nodo_prometedor)\n",
        "\n",
        "    #Ramificacion\n",
        "    #Se generan los hijos\n",
        "    HIJOS =[ {'s':x['s'], 'ci':CI(x['s'], COSTES)   } for x in crear_hijos(nodo_prometedor, DIMENSION) ]\n",
        "\n",
        "    #Revisamos la cota superior y nos quedamos con la mejor solucion si llegamos a una solucion final\n",
        "    NODO_FINAL = [x for x in HIJOS if len(x['s']) == DIMENSION  ]\n",
        "    if len(NODO_FINAL ) >0: \n",
        "      #print(\"\\n********Soluciones:\",  [x for x in HIJOS if len(x['s']) == DIMENSION  ] )\n",
        "      if NODO_FINAL[0]['ci'] < CotaSup:\n",
        "        CotaSup = NODO_FINAL[0]['ci']\n",
        "        MEJOR_SOLUCION = NODO_FINAL\n",
        " \n",
        "    #Poda\n",
        "    HIJOS = [x for x in HIJOS if x['ci'] < CotaSup   ]\n",
        "\n",
        "    #Añadimos los hijos \n",
        "    NODOS.extend(HIJOS) \n",
        "\n",
        "    #Eliminamos el nodo ramificado\n",
        "    NODOS =  [  x for x in NODOS if x['s'] != nodo_prometedor    ]\n",
        "   \n",
        "  print(\"La solucion final es:\" ,MEJOR_SOLUCION , \" en \" , iteracion , \" iteraciones\" , \" para dimension: \" ,DIMENSION  )\n",
        "      \n",
        "\n",
        "\n",
        "ramificacion_y_poda(COSTES)"
      ],
      "execution_count": null,
      "outputs": [
        {
          "output_type": "stream",
          "text": [
            "La solucion final es: [{'s': (1, 2, 0, 3), 'ci': 64}]  en  10  iteraciones  para dimension:  4\n"
          ],
          "name": "stdout"
        }
      ]
    },
    {
      "cell_type": "markdown",
      "metadata": {
        "id": "I8xMb1PMi9J5"
      },
      "source": [
        "##Descenso del gradiente"
      ]
    },
    {
      "cell_type": "code",
      "metadata": {
        "id": "U6F7vFJoi9nR"
      },
      "source": [
        "import math                      #Funciones matematicas\n",
        "import matplotlib.pyplot as plt  #Generacion de gráficos (otra opcion seaborn)\n",
        "import numpy as np               #Tratamiento matriz N-dimensionales y otras (fundamental!) \n",
        "#import scipy as sc\n",
        "\n",
        "import random"
      ],
      "execution_count": null,
      "outputs": []
    },
    {
      "cell_type": "markdown",
      "metadata": {
        "id": "8lnwgsGMiPBw"
      },
      "source": [
        "$$f(x) =  x² + y²$$"
      ]
    },
    {
      "cell_type": "code",
      "metadata": {
        "id": "ho9DL7BEjB_5"
      },
      "source": [
        "#Definimos la funcion\n",
        "#Paraboloide\n",
        "f  = lambda X:      X[0]**2+X[1]**2      #Funcion\n",
        "df = lambda X: [2*X[0] , 2*X[1]]         #Gradiente"
      ],
      "execution_count": null,
      "outputs": []
    },
    {
      "cell_type": "code",
      "metadata": {
        "colab": {
          "base_uri": "https://localhost:8080/",
          "height": 282
        },
        "id": "73zKEZvljGpz",
        "outputId": "19e6bd4c-d596-4c40-a996-8c1bcc49b2ed"
      },
      "source": [
        "#Prepara los datos para dibujar mapa de niveles de Z\n",
        "resolucion = 100 \n",
        "rango=2.5\n",
        "X=np.linspace(-rango,rango,resolucion) \n",
        "Y=np.linspace(-rango,rango,resolucion)\n",
        "Z=np.zeros((resolucion,resolucion))\n",
        "for ix,x in enumerate(X):\n",
        "  for iy,y in enumerate(Y):\n",
        "    Z[iy,ix] = f([x,y])\n",
        "\n",
        "#Pinta el mapa de niveles de Z\n",
        "plt.contourf(X,Y,Z,resolucion)\n",
        "plt.colorbar() \n",
        "\n",
        "#Generamos un punto aleatorio\n",
        "P=[random.uniform(-2,2  ),random.uniform(-2,2 ) ]\n",
        "plt.plot(P[0],P[1],\"o\",c=\"white\")\n",
        "\n",
        "#Tasa de aprendizaje\n",
        "TA=.1 \n",
        "\n",
        "#Iteraciones\n",
        "for _ in range(500):\n",
        "  grad = df(P)\n",
        "  #print(P,grad)\n",
        "  P[0],P[1] = P[0] - TA*grad[0] , P[1] - TA*grad[1]\n",
        "  plt.plot(P[0],P[1],\"o\",c=\"red\")\n",
        "\n",
        "plt.plot(P[0],P[1],\"o\",c=\"green\")\n",
        "plt.show()\n",
        "print(\"Solucion:\" , P , f(P))\n"
      ],
      "execution_count": null,
      "outputs": [
        {
          "output_type": "display_data",
          "data": {
            "image/png": "[encoded data removed]",
            "text/plain": [
              "<Figure size 432x288 with 2 Axes>"
            ]
          },
          "metadata": {
            "tags": [],
            "needs_background": "light"
          }
        },
        {
          "output_type": "stream",
          "text": [
            "Solucion: [-3.542086563453277e-49, 4.7924221189751224e-49] 3.5513686989438247e-97\n"
          ],
          "name": "stdout"
        }
      ]
    }
  ]
}