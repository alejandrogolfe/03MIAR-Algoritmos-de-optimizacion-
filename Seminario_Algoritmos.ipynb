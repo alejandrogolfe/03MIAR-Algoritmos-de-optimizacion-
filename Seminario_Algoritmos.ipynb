{
  "nbformat": 4,
  "nbformat_minor": 0,
  "metadata": {
    "colab": {
      "name": "Seminario_Algoritmos.ipynb",
      "provenance": [],
      "collapsed_sections": [],
      "include_colab_link": true
    },
    "kernelspec": {
      "display_name": "Python 3",
      "language": "python",
      "name": "python3"
    },
    "language_info": {
      "codemirror_mode": {
        "name": "ipython",
        "version": 3
      },
      "file_extension": ".py",
      "mimetype": "text/x-python",
      "name": "python",
      "nbconvert_exporter": "python",
      "pygments_lexer": "ipython3",
      "version": "3.7.4"
    }
  },
  "cells": [
    {
      "cell_type": "markdown",
      "metadata": {
        "id": "view-in-github",
        "colab_type": "text"
      },
      "source": [
        "<a href=\"https://colab.research.google.com/github/alejandrogolfe/03MIAR-Algoritmos-de-optimizacion-/blob/main/Seminario_Algoritmos.ipynb\" target=\"_parent\"><img src=\"https://colab.research.google.com/assets/colab-badge.svg\" alt=\"Open In Colab\"/></a>"
      ]
    },
    {
      "cell_type": "markdown",
      "metadata": {
        "id": "hVbXYX-RfPWh"
      },
      "source": [
        "# Algoritmos de optimización - Seminario<br>\n",
        "**Nombre y Apellidos**:   ALEJANDRO GOLFE SAN MARTÍN<br>\n",
        "**Url**: https://github.com/alejandrogolfe/03MIAR-Algoritmos-de-optimizacion<br>\n",
        "**Url drive**: https://drive.google.com/file/d/11U3ooLroNhBe1nNuPnhmcUcn60MIQgRr/view?usp=sharing<br>\n",
        "**Problema escogido**:\n",
        "\n",
        "- Combinar cifras y operaciones\n",
        "\n",
        "**Descripción del problema**:\n",
        "\n",
        "Disponemos de las 9 cifras del 1 al 9 (excluimos el cero) y de los 4 signos básicos de las\n",
        "operaciones fundamentales: suma(+), resta(-), multiplicación(*) y división(/).\n",
        "\n",
        "Debemos combinarlos alternativamente sin repetir ninguno de ellos para obtener una\n",
        "cantidad dada. Un ejemplo sería para obtener el 4:\n",
        "\n",
        "\n",
        "\n",
        "\n",
        "                                        "
      ]
    },
    {
      "cell_type": "markdown",
      "metadata": {
        "id": "3_-exlrTgLd-"
      },
      "source": [
        "# 1. (*) ¿Cuantas posibilidades hay sin tener en cuenta las restricciones?¿Cuantas posibilidades hay teniendo en cuenta todas las restricciones.\n",
        "\n"
      ]
    },
    {
      "cell_type": "markdown",
      "metadata": {
        "id": "WfCUqJyKhPcw"
      },
      "source": [
        "- **Sin restricciones**, es decir, pudiendo escoger cualquier número en cualquier cantidad y escogiendo la cantidad de operadores que se desee, podría llegarse a la conclusión de que el espacio de soluciones sería inexplorable al completo ya que resultaría de tamaño infinito. Esto se debe a que el conjunto de números enteros es infinito y siempre podrían evaluarse infinitas combinaciones.\n",
        "\n",
        "- **Con restricciones** esto cambia ya que se limita el número de posibles números a elegir y su cantidad. En este caso se escogen 5 números en el rango de 1 a 9 y con cuatro operadores matemáticos (multiplicación,división,suma y resta). Con estos 9 números se pueden llevar a cabo N combinaciones de 5 números y con los 4 operadores se pueden llevar a cabo M combinaciones de los 4 elementos. El número total de posibilidades se obtendrá multiplicando estos valores MxN. A continuación, se muestra su cálculo:\n",
        "<ul>\n",
        "<li><font size=\"3\"> M=</font><font size=\"5\"> $\\frac{n!}{(n-k)!}$ = $\\frac{9!}{(9-5)!}$ =</font> <font size=\"3\"> 15120</font></li> \n",
        "<li><font size=\"3\"> N=</font><font size=\"3\"> 4!= 24</font> </li> \n",
        "<li><font size=\"3\"> M*N=</font><font size=\"3\"> 362880 iteraciones</font> </li>    \n",
        " \n",
        "\n",
        "</ul>\n",
        "\n",
        "A continuación, se muestra un fragmento de código en el que se demuestra que ese es el número de iteraciones para el problema dado:\n",
        "\n"
      ]
    },
    {
      "cell_type": "code",
      "metadata": {
        "id": "iq6Fe32MgpDX",
        "outputId": "c95d3b10-350f-4d11-d427-ba625e9441e8"
      },
      "source": [
        "from itertools import permutations\n",
        "import random\n",
        "\n",
        "lista_numeros=range(1,10)\n",
        "lista_signos='+-/*'\n",
        "\n",
        "maximo=0\n",
        "minimo=1000000\n",
        "\n",
        "\n",
        "cuenta=0\n",
        "\n",
        "for numeros in permutations(lista_numeros,5):\n",
        "    for signos in permutations(lista_signos,4):\n",
        "        expresion=str(numeros[0])+signos[0]+str(numeros[1])+signos[1]+str(numeros[2])+signos[2]+str(numeros[3])+signos[3]+str(numeros[4])\n",
        "        valor=eval(expresion)\n",
        "        if(valor%1==0):\n",
        "            if(valor>maximo):\n",
        "                maximo=valor\n",
        "                expresion_maxima=expresion\n",
        "            if(valor<minimo):\n",
        "                minimo=valor\n",
        "                expresion_minima=expresion\n",
        "        cuenta=cuenta+1\n",
        "print('El número de iteraciones es: '+str(cuenta))\n",
        "print('El valor máximo que se puede representar es: '+str(maximo))\n",
        "print('Su primera expresión encontrada es: '+expresion_maxima)\n",
        "print('El valor mínimo que se puede representar es: '+str(minimo))\n",
        "print('Su primera expresión encontrada es: '+expresion_minima)\n"
      ],
      "execution_count": null,
      "outputs": [
        {
          "output_type": "stream",
          "text": [
            "El número de iteraciones es: 362880\n",
            "El valor máximo que se puede representar es: 77.0\n",
            "Su primera expresión encontrada es: 7/1-2+8*9\n",
            "El valor mínimo que se puede representar es: -69.0\n",
            "Su primera expresión encontrada es: 1+4/2-8*9\n"
          ],
          "name": "stdout"
        }
      ]
    },
    {
      "cell_type": "markdown",
      "metadata": {
        "id": "m_QT_1x24Ya8"
      },
      "source": [
        "Adicionalmente surge la siguiente duda, **¿Se pueden representar todos los valores enteros entre el valor máximo y mínimo?**. Para averiguarlo, se define la función que implementa el algoritmo con una ligera modificación para comprobar si una combinación para cada valor dado."
      ]
    },
    {
      "cell_type": "code",
      "metadata": {
        "id": "maFhM7o94Ya9",
        "outputId": "8fe0c92f-20db-45e3-e51f-19c324d3ed99"
      },
      "source": [
        "\n",
        "def algoritmo_comprobar_representacion(numero_deseado):\n",
        "    lista_numeros=[1,2,3,4,5,6,7,8,9]\n",
        "    random.shuffle(lista_numeros)\n",
        "    lista_signos='+-/*'\n",
        "    encontrado=0\n",
        "    iteraciones=0\n",
        "    for numeros in permutations(lista_numeros,5):\n",
        "        if(encontrado):\n",
        "            break\n",
        "        for signos in permutations(lista_signos,4):\n",
        "            expresion=str(numeros[0])+signos[0]+str(numeros[1])+signos[1]+str(numeros[2])+signos[2]+str(numeros[3])+signos[3]+str(numeros[4])\n",
        "            valor=eval(expresion)\n",
        "            iteraciones+=1\n",
        "            if(valor==numero_deseado):\n",
        "                encontrado=1\n",
        "                expresion_definitiva=expresion\n",
        "                break\n",
        "    if(encontrado):\n",
        "        return True\n",
        "    else:\n",
        "        return False\n",
        "\n",
        "for num in range(int(minimo),int(maximo+1)):\n",
        "    if(algoritmo_comprobar_representacion(num)==False):\n",
        "        print('Hay un número que no se puede representar')\n",
        "        break\n",
        "    else:\n",
        "        if(num==maximo):\n",
        "            print('Todos los números se pueden representar')"
      ],
      "execution_count": null,
      "outputs": [
        {
          "output_type": "stream",
          "text": [
            "Todos los números se pueden representar\n"
          ],
          "name": "stdout"
        }
      ]
    },
    {
      "cell_type": "markdown",
      "metadata": {
        "id": "dzynfVJahHoY"
      },
      "source": [
        "# 2.Modelo para el espacio de soluciones<br>\n",
        "## (*) ¿Cual es la estructura de datos que mejor se adapta al problema? Argumentalo.(Es posible que hayas elegido una al principio y veas la necesidad de cambiar, arguentalo)\n"
      ]
    },
    {
      "cell_type": "markdown",
      "metadata": {
        "id": "xFIJrOwKi2Ti"
      },
      "source": [
        "La estructura que mejor se adapta a las características del problema es la estructura de árbol. Ya que se se cuenta con un elevado número de permutaciones, dentro de cada subcombinación se pueden obtener multiples nodos hijos. Una vez identificada esta estructura se ha osbervado que muchas combinaciones no merecen ser exploradas porque no son factibles. Por ejemplo, una combinación que construye una división que no tiene como resultado un número entero, ya es descartable. En este trabajo se va a aplicar la técnica de ramificación y poda, intentando explorar en primer lugar los nodos de mayor interés y descartando aquellos que no son factibles."
      ]
    },
    {
      "cell_type": "markdown",
      "metadata": {
        "id": "7Z9U2W7bi-XS"
      },
      "source": [
        "# 3. Según el modelo para el espacio de soluciones<br>\n",
        "## (*)¿Cual es la función objetivo?\n",
        "\n",
        "En este caso la función objetivo es que el resultado de la expresión matématica construida sea igual al número deseado por el usuario.\n",
        "\n",
        "## (*)¿Es un problema de maximización o minimización?\n",
        "\n",
        "En este caso no se trata de ninguno de los dos ya que no se desea obtener una función de mayor o menor coste, simplemente se desea obtener una solución válida para el problema planteado. Esto también quiere decir que para un número dado, es posible que haya múltiples soluciones, pero la finalidad de este trabajo es garantizar que se encuentra al menos una de ellas ya que toda solución que cumple las condiciones es válida."
      ]
    },
    {
      "cell_type": "markdown",
      "metadata": {
        "id": "rlnTYgY1j6I2"
      },
      "source": [
        "# 4. Diseña un algoritmo para resolver el problema por fuerza bruta"
      ]
    },
    {
      "cell_type": "markdown",
      "metadata": {
        "id": "70rDgxYXkC8r"
      },
      "source": [
        "Aunque en apartados anteriores ya se ha mostrado el algoritmo de fuerza bruta, en este apartado se implementa la función que lo lleva a cabo proporcionando el número de iteraciones necesarias hasta llegar a la solución y el valor de la expresión. En este caso se propone un algoritmo general que escoge entre los números dados en la lista de entrada."
      ]
    },
    {
      "cell_type": "code",
      "metadata": {
        "id": "CJb5sQ0qkENy"
      },
      "source": [
        "def algoritmo_fuerza_bruta(lista_numeros,numero_deseado):\n",
        "    lista_signos='+-/*'\n",
        "    encontrado=0\n",
        "    iteraciones=0\n",
        "    for numeros in permutations(lista_numeros,5):\n",
        "        if(encontrado):\n",
        "            break\n",
        "        for signos in permutations(lista_signos,4):\n",
        "            expresion=str(numeros[0])+signos[0]+str(numeros[1])+signos[1]+str(numeros[2])+signos[2]+str(numeros[3])+signos[3]+str(numeros[4])\n",
        "            valor=eval(expresion)\n",
        "            iteraciones+=1\n",
        "            if(valor==numero_deseado):\n",
        "                encontrado=1\n",
        "                expresion_definitiva=expresion\n",
        "                break\n",
        "    if(encontrado):\n",
        "        return iteraciones,expresion_definitiva\n",
        "    else:\n",
        "        return iteraciones,'No se puede representar el numero deseado con las restricciones dadas'\n"
      ],
      "execution_count": null,
      "outputs": []
    },
    {
      "cell_type": "code",
      "metadata": {
        "id": "eF6Vu1TT4YbC",
        "outputId": "5e08a1e0-51c9-470a-be91-5cb689e3671b"
      },
      "source": [
        "###Ejemplo de aplicación\n",
        "\n",
        "lista_numeros=[1,2,3,4,5,6,7,8,9]\n",
        "print(algoritmo_fuerza_bruta(lista_numeros,77))\n",
        "print(algoritmo_fuerza_bruta(lista_numeros,36))\n",
        "print(algoritmo_fuerza_bruta(lista_numeros,0))"
      ],
      "execution_count": null,
      "outputs": [
        {
          "output_type": "stream",
          "text": [
            "(242511, '7/1-2+8*9')\n",
            "(42302, '2/1+5*8-6')\n",
            "(268, '1+2/3*6-5')\n"
          ],
          "name": "stdout"
        }
      ]
    },
    {
      "cell_type": "markdown",
      "metadata": {
        "id": "tgrnsC2nkFa8"
      },
      "source": [
        "Calcula la complejidad del algoritmo por fuerza bruta"
      ]
    },
    {
      "cell_type": "markdown",
      "metadata": {
        "id": "9eUd3xwckP68"
      },
      "source": [
        "El algoritmo tiene una complejidad factorial, debido a su estructura ramificada y las permutaciones posibles."
      ]
    },
    {
      "cell_type": "markdown",
      "metadata": {
        "id": "txbrmLmskReM"
      },
      "source": [
        "# 5.  (*)Diseña un algoritmo que mejore la complejidad del algortimo por fuerza bruta. Argumenta porque crees que mejora el algoritmo por fuerza bruta"
      ]
    },
    {
      "cell_type": "markdown",
      "metadata": {
        "id": "hLrVwt5QkZPD"
      },
      "source": [
        "En este primer ejemplo se implementa el algoritmo de fuerza bruta pero desordenando la lista de números de entrada. Esto proporciona puntos de partida aleatorios, ya que la función que lleva a cabo las permutaciones sigue el orden de la lista. Desordenando esta aleatoriamente, en cada ejecución se tiene un punto de partida y en ocasiones puede ser cercano al deseado. En la implementación anterior, el número de iteraciones necesarias para cada combinación era fija ya que se seguía el orden establecido. Como ventaja ahora puede que ese número sea inferior, aunque por otra parte también puede empeorar."
      ]
    },
    {
      "cell_type": "markdown",
      "metadata": {
        "id": "O7AZsYcz4YbE"
      },
      "source": [
        "### 5.1  Algoritmo de fuerza bruta modificado\n"
      ]
    },
    {
      "cell_type": "code",
      "metadata": {
        "id": "m1eyM21Vkabg"
      },
      "source": [
        "\n",
        "def algoritmo_fuerza_bruta_shuffle(lista_numeros,numero_deseado):\n",
        "    \n",
        "    random.shuffle(lista_numeros)\n",
        "    lista_signos='+-/*'\n",
        "    encontrado=0\n",
        "    iteraciones=0\n",
        "    for numeros in permutations(lista_numeros,5):\n",
        "        if(encontrado):\n",
        "            break\n",
        "        for signos in permutations(lista_signos,4):\n",
        "            expresion=str(numeros[0])+signos[0]+str(numeros[1])+signos[1]+str(numeros[2])+signos[2]+str(numeros[3])+signos[3]+str(numeros[4])\n",
        "            valor=eval(expresion)\n",
        "            iteraciones+=1\n",
        "            if(valor==numero_deseado):\n",
        "                encontrado=1\n",
        "                expresion_definitiva=expresion\n",
        "                break\n",
        "    if(encontrado):\n",
        "        return iteraciones,expresion_definitiva\n",
        "    else:\n",
        "        return iteraciones,'No se puede representar el numero deseado con las restricciones dadas'\n",
        "\n",
        "    "
      ],
      "execution_count": null,
      "outputs": []
    },
    {
      "cell_type": "code",
      "metadata": {
        "id": "3nwl1A944YbE",
        "outputId": "bf59253d-8e62-4d2a-c37a-80ebb49c7203"
      },
      "source": [
        "lista_numeros=[1,2,3,4,5,6,7,8,9]\n",
        "numeros_introducidos=[77,36,0,-4,-8,-54]\n",
        "pruebas=[]\n",
        "for i in range(len(numeros_introducidos)):\n",
        "    pruebas.append(algoritmo_fuerza_bruta_shuffle(lista_numeros,numeros_introducidos[i]))\n",
        "\n",
        "\n",
        "for i in range(len(numeros_introducidos)):\n",
        "    print('Numero deseado: '+str(numeros_introducidos[i])+' Iteraciones: '+str(pruebas[i][0])+' Expresión: '+str(pruebas[i][1]))"
      ],
      "execution_count": null,
      "outputs": [
        {
          "output_type": "stream",
          "text": [
            "Numero deseado: 77 Iteraciones: 102670 Expresión: 9*8-4/2+7\n",
            "Numero deseado: 36 Iteraciones: 330 Expresión: 6/1*7-8+2\n",
            "Numero deseado: 0 Iteraciones: 492 Expresión: 3-2*8/4+1\n",
            "Numero deseado: -4 Iteraciones: 74 Expresión: 4+7-5*6/2\n",
            "Numero deseado: -8 Iteraciones: 324 Expresión: 4-9*2/1+6\n",
            "Numero deseado: -54 Iteraciones: 101848 Expresión: 8/2-7*9+5\n"
          ],
          "name": "stdout"
        }
      ]
    },
    {
      "cell_type": "markdown",
      "metadata": {
        "id": "QK6qh_j74YbF"
      },
      "source": [
        "### 5.2 Algoritmo de ramificación y poda\n",
        "\n",
        "El algoritmo diseñado tiene dos procedimientos según si el número es positivo o igual que 0 o si es negativo. En primer lugar, se explica el procedimiento de los números positivos:\n",
        "\n",
        "- El **primer nodo** a explorar se obtiene generando un número aleatorio y diviendo el número deseado por el usuario entre dicho valor aleatorio. Si la parte entera de esta división es un número de la lista y es distinto que el primer elemento generado aleatoriamente, se continúa con el algoritmo. En caso contrario, se siguen explorando opciones eliminando la ya evaluada, hasta que se encuentra una viable. \n",
        "- **Ejemplo positivo**: Número deseado: 50, primer elemento generado aleatoriamente 8, división entera 6, se continúa con el algoritmo con la cadena 6*8\n",
        "- **Ejemplo negativo 1**: Número deseado: 50, primer elemento generado aleatoriamente 1, división entera 50, no se puede continuar porque 50 no está entre los números posibles.\n",
        "- **Ejemplo negativo 2**: Número deseado: 50, primer elemento generado aleatoriamente 7, división entera 7. Puesto que el número es repetido, en estos casos se suma un valor de uno al segundo número para que sea distinto y se comprueba si es válido para continuar.\n",
        "- En la **siguiente etapa** , se eliminan los números seleccionados anteriormente y se continúa con los disponibles. El siguiente signo de la cadena puede ser un \"+\" o un \"-\", eligiéndose aleatoriamente uno de ellos y continuando con dicha elección. \n",
        "- Una vez seleccionado el signo, se continúa con las **opciones restantes**. En esta etapa se asignan los valores que van acompañados del operador **división**. Es por ello que si la división no es entera, no se tiene en cuenta directamente.\n",
        "- Una vez seleccionado los elementos que componen la división, se comprueba que el valor restante sea posible de alcanzar con los elementos restantes. Si es así, se devuelve la **cadena final**."
      ]
    },
    {
      "cell_type": "code",
      "metadata": {
        "id": "sivBa1VZ4YbF"
      },
      "source": [
        "###Algoritmo ramificación y poda\n",
        "import random\n",
        "from itertools import permutations\n",
        "\n",
        "def algoritmo_ramificacion_poda(lista_numeros,numero_deseado):\n",
        "    iteraciones = 0\n",
        "    cadena_encontrada = 0\n",
        "    lista_original=lista_numeros\n",
        "    while (cadena_encontrada == 0): #Ejecuta el bucle mientras no encuentre la expresión\n",
        "        lista_numeros = lista_original.copy()\n",
        "        \n",
        "        if (numero_deseado >= 0): #Si el número es positivo o 0\n",
        "            iteraciones += 1\n",
        "            lista_numeros_aux = lista_numeros.copy() #Lista auxiliar de la que se irán eliminando opciones ya exploradas\n",
        "            primer_numero = random.randint(1, len(lista_numeros)) #Primer número aleatorio\n",
        "            segundo_numero = int(numero_deseado / primer_numero)\n",
        "            \n",
        "            #En este bucle se comprueba que el primer y segundo elemento son válidos, como se ha ilustrado con los ejemplos\n",
        "            while ((segundo_numero not in lista_numeros) or primer_numero==segundo_numero):\n",
        "                if (segundo_numero == primer_numero or segundo_numero==0):\n",
        "                    segundo_numero += 1\n",
        "                    iteraciones += 1\n",
        "                else:\n",
        "                    lista_numeros_aux.remove(primer_numero)\n",
        "                    primer_numero = lista_numeros_aux[random.randint(0, len(lista_numeros_aux) - 1)]\n",
        "                    segundo_numero = int(numero_deseado / primer_numero)\n",
        "                    iteraciones += 1\n",
        "\n",
        "            cadena = str(primer_numero) + '*' + str(segundo_numero)\n",
        "            lista_numeros.remove(primer_numero) #Eliminación del primer elemento de la lista de números disponibles\n",
        "            lista_numeros.remove(segundo_numero)#Eliminación del segundo elemento de la lista de números disponibles\n",
        "            numeros_restantes = lista_numeros.copy()\n",
        "            \n",
        "            #Se genera el número aleatorio que sirve para seleccionar el \"+\" o el \"-\"\n",
        "            aleatorio_signo = random.randint(1, 2) \n",
        "            if (aleatorio_signo == 1):\n",
        "                signo = '+'\n",
        "                ultimo_signo = '-'\n",
        "            else:\n",
        "                signo = '-'\n",
        "                ultimo_signo = '+'\n",
        "                \n",
        "            #Se continúa construyendo la cadena con las opciones restantes\n",
        "            for numeros in permutations(numeros_restantes, 2):\n",
        "                primer_elemento = numeros[0]\n",
        "                segundo_elemento = numeros[1]\n",
        "                iteraciones+=1\n",
        "                \n",
        "                if (primer_elemento % segundo_elemento == 0): #Si la división no es entera, no se tiene encuenta\n",
        "                    cadena_aux = cadena + signo + str(primer_elemento) + '/' + str(segundo_elemento)\n",
        "                    valor_restante = numero_deseado - eval(cadena_aux)\n",
        "                    \n",
        "                    #Si el último signo hace imposible alcanzar el valor restante, no se tiene en cuenta la combinación\n",
        "                    if ((valor_restante >= 0 and ultimo_signo == '-') or (valor_restante <= 0 and ultimo_signo == '+')):\n",
        "                        pass\n",
        "                    else: #En caso de que sí que sea válido\n",
        "                        numeros_restantes_2 = numeros_restantes.copy()\n",
        "                        numeros_restantes_2.remove(primer_elemento) #Se quitan los elementos asignados a la división\n",
        "                        numeros_restantes_2.remove(segundo_elemento)#Se quitan los elementos asignados a la división\n",
        "                        if (abs(valor_restante) in numeros_restantes_2): #Si el valor restante se encuentra en la lista de elementos disponibles, se selecciona este\n",
        "                            ultimo_valor = valor_restante\n",
        "                            cadena_final = cadena_aux + ultimo_signo + str(abs(int(valor_restante)))\n",
        "                            return iteraciones,cadena_final\n",
        "        #El funcionamiento de la parte negativa es análogo al de la posisitiva.\n",
        "        #La única diferencia es que no se escoge signo \"+\" o \"-\" ya que el \"-\" siempre se ubica al inicio\n",
        "        else:\n",
        "            iteraciones += 1\n",
        "            lista_numeros_aux = lista_numeros.copy()\n",
        "            primer_numero = random.randint(1, len(lista_numeros_aux))\n",
        "            segundo_numero = int(abs(numero_deseado) / primer_numero)\n",
        "            while ((segundo_numero not in lista_numeros) or primer_numero == segundo_numero or abs(segundo_numero*primer_numero)<=abs(numero_deseado)):\n",
        "                if (segundo_numero == primer_numero):\n",
        "                    segundo_numero += 1\n",
        "                    iteraciones += 1\n",
        "                else:\n",
        "                    primer_numero = random.randint(1, len(lista_numeros_aux))\n",
        "                    segundo_numero = int(abs(numero_deseado) / primer_numero)+1\n",
        "                    iteraciones += 1\n",
        "\n",
        "            cadena = '-'+str(primer_numero) + '*' + str(segundo_numero)\n",
        "            lista_numeros.remove(primer_numero)\n",
        "            lista_numeros.remove(segundo_numero)\n",
        "            numeros_restantes = lista_numeros.copy()\n",
        "            ultimo_signo = '+'\n",
        "            for numeros in permutations(numeros_restantes, 2):\n",
        "                primer_elemento = numeros[0]\n",
        "                segundo_elemento = numeros[1]\n",
        "                iteraciones += 1\n",
        "                if (primer_elemento % segundo_elemento == 0):\n",
        "                    cadena_aux = cadena + ultimo_signo + str(primer_elemento) + '/' + str(segundo_elemento)\n",
        "                    if(eval(cadena_aux)==numero_deseado):\n",
        "                        return iteraciones,cadena_aux\n",
        "\n",
        "\n",
        "\n",
        "\n",
        "\n"
      ],
      "execution_count": null,
      "outputs": []
    },
    {
      "cell_type": "markdown",
      "metadata": {
        "id": "DInyqpoQ4YbG"
      },
      "source": [
        "Se lleva a cabo la misma prueba que con los algoritmos anteriores para comprobar cuantas iteraciones necesita"
      ]
    },
    {
      "cell_type": "code",
      "metadata": {
        "id": "cb0Zgsjx4YbG",
        "outputId": "8dfa6762-459a-4ad3-ed7a-80dee5bcd192"
      },
      "source": [
        "lista_numeros=[1,2,3,4,5,6,7,8,9]\n",
        "numeros_introducidos=[77,36,0,-4,-8,-54]\n",
        "pruebas=[]\n",
        "for i in range(len(numeros_introducidos)):\n",
        "    pruebas.append(algoritmo_ramificacion_poda(lista_numeros,numeros_introducidos[i]))\n",
        "\n",
        "\n",
        "for i in range(len(numeros_introducidos)):\n",
        "    print('Numero deseado: '+str(numeros_introducidos[i])+' Iteraciones: '+str(pruebas[i][0])+' Expresión: '+str(pruebas[i][1]))\n",
        "                "
      ],
      "execution_count": null,
      "outputs": [
        {
          "output_type": "stream",
          "text": [
            "Numero deseado: 77 Iteraciones: 44 Expresión: 9*8+7/1-2\n",
            "Numero deseado: 36 Iteraciones: 27 Expresión: 4*9-6/2+3\n",
            "Numero deseado: 0 Iteraciones: 110 Expresión: 1*2+6/3-4\n",
            "Numero deseado: -4 Iteraciones: 78 Expresión: -3*2+8/4\n",
            "Numero deseado: -8 Iteraciones: 35 Expresión: -3*4+8/2\n",
            "Numero deseado: -54 Iteraciones: 9 Expresión: -8*7+2/1\n"
          ],
          "name": "stdout"
        }
      ]
    },
    {
      "cell_type": "markdown",
      "metadata": {
        "id": "N6DCFdR14YbH"
      },
      "source": [
        "### 5.3 Comparativa de tiempos de ejecución de todos los algoritmos"
      ]
    },
    {
      "cell_type": "code",
      "metadata": {
        "id": "9oaXh7k64YbH",
        "outputId": "85e55b44-0123-4ebb-dc7d-5db051683397"
      },
      "source": [
        "from time import time\n",
        "import numpy as np\n",
        "\n",
        "lista_numeros=[1,2,3,4,5,6,7,8,9]\n",
        "numeros_introducidos=[77,36,0,-4,-8,-54]\n",
        "pruebas=[]\n",
        "print('Algoritmo fuerza bruta:\\n')\n",
        "\n",
        "start=time()\n",
        "for i in range(len(numeros_introducidos)):\n",
        "    pruebas.append(algoritmo_fuerza_bruta(lista_numeros,numeros_introducidos[i]))\n",
        "final=time()\n",
        "\n",
        "for i in range(len(numeros_introducidos)):\n",
        "    print('Numero deseado: '+str(numeros_introducidos[i])+' Iteraciones: '+str(pruebas[i][0])+' Expresión: '+str(pruebas[i][1]))\n",
        "print('Tiempo empleado: '+str(np.round(final-start,2)))"
      ],
      "execution_count": null,
      "outputs": [
        {
          "output_type": "stream",
          "text": [
            "Algoritmo fuerza bruta:\n",
            "\n",
            "Numero deseado: 77 Iteraciones: 242511 Expresión: 7/1-2+8*9\n",
            "Numero deseado: 36 Iteraciones: 42302 Expresión: 2/1+5*8-6\n",
            "Numero deseado: 0 Iteraciones: 268 Expresión: 1+2/3*6-5\n",
            "Numero deseado: -4 Iteraciones: 340 Expresión: 1+2/3*6-9\n",
            "Numero deseado: -8 Iteraciones: 2771 Expresión: 1-2*6+9/3\n",
            "Numero deseado: -54 Iteraciones: 83269 Expresión: 3/1+6-7*9\n",
            "Tiempo empleado: 2.8\n"
          ],
          "name": "stdout"
        }
      ]
    },
    {
      "cell_type": "code",
      "metadata": {
        "id": "GIJp3J_i4YbH",
        "outputId": "26fb8412-82af-4088-dd29-50087b67c9e2"
      },
      "source": [
        "from time import time\n",
        "import numpy as np\n",
        "\n",
        "lista_numeros=[1,2,3,4,5,6,7,8,9]\n",
        "numeros_introducidos=[77,36,0,-4,-8,-54]\n",
        "pruebas=[]\n",
        "print('Algoritmo fuerza bruta shuffle:\\n')\n",
        "\n",
        "start=time()\n",
        "for i in range(len(numeros_introducidos)):\n",
        "    pruebas.append(algoritmo_fuerza_bruta_shuffle(lista_numeros,numeros_introducidos[i]))\n",
        "final=time()\n",
        "\n",
        "for i in range(len(numeros_introducidos)):\n",
        "    print('Numero deseado: '+str(numeros_introducidos[i])+' Iteraciones: '+str(pruebas[i][0])+' Expresión: '+str(pruebas[i][1]))\n",
        "print('Tiempo empleado: '+str(np.round(final-start,2)))"
      ],
      "execution_count": null,
      "outputs": [
        {
          "output_type": "stream",
          "text": [
            "Algoritmo fuerza bruta shuffle:\n",
            "\n",
            "Numero deseado: 77 Iteraciones: 56395 Expresión: 8*9+7-2/1\n",
            "Numero deseado: 36 Iteraciones: 902 Expresión: 2/1+5*8-6\n",
            "Numero deseado: 0 Iteraciones: 4 Expresión: 4+6/3*2-8\n",
            "Numero deseado: -4 Iteraciones: 5940 Expresión: 1-4*6/2+7\n",
            "Numero deseado: -8 Iteraciones: 98 Expresión: 1+5-8*7/4\n",
            "Numero deseado: -54 Iteraciones: 23629 Expresión: 8/2+5-7*9\n",
            "Tiempo empleado: 0.7\n"
          ],
          "name": "stdout"
        }
      ]
    },
    {
      "cell_type": "code",
      "metadata": {
        "id": "wHbxhHMN4YbH",
        "outputId": "19f5ae40-8c67-4c23-ca06-3013d210ebc0"
      },
      "source": [
        "from time import time\n",
        "import numpy as np\n",
        "\n",
        "lista_numeros=[1,2,3,4,5,6,7,8,9]\n",
        "numeros_introducidos=[77,36,0,-4,-8,-54]\n",
        "pruebas=[]\n",
        "print('Algoritmo ramificación y poda:\\n')\n",
        "\n",
        "start=time()\n",
        "for i in range(len(numeros_introducidos)):\n",
        "    pruebas.append(algoritmo_ramificacion_poda(lista_numeros,numeros_introducidos[i]))\n",
        "final=time()\n",
        "\n",
        "for i in range(len(numeros_introducidos)):\n",
        "    print('Numero deseado: '+str(numeros_introducidos[i])+' Iteraciones: '+str(pruebas[i][0])+' Expresión: '+str(pruebas[i][1]))\n",
        "print('Tiempo empleado: '+str(final-start))"
      ],
      "execution_count": null,
      "outputs": [
        {
          "output_type": "stream",
          "text": [
            "Algoritmo ramificación y poda:\n",
            "\n",
            "Numero deseado: 77 Iteraciones: 12 Expresión: 9*8-2/1+7\n",
            "Numero deseado: 36 Iteraciones: 27 Expresión: 9*4+6/2-3\n",
            "Numero deseado: 0 Iteraciones: 65 Expresión: 2*1+6/3-4\n",
            "Numero deseado: -4 Iteraciones: 34 Expresión: -2*3+8/4\n",
            "Numero deseado: -8 Iteraciones: 22 Expresión: -5*2+6/3\n",
            "Numero deseado: -54 Iteraciones: 17 Expresión: -7*8+2/1\n",
            "Tiempo empleado: 0.0009644031524658203\n"
          ],
          "name": "stdout"
        }
      ]
    },
    {
      "cell_type": "markdown",
      "metadata": {
        "id": "pdCkXp-a4YbH"
      },
      "source": [
        "### 5.4 Comparativa con 20 números posibles a elegir\n",
        "Se recuerda que en base al cálculo realizado en el primer apartado, con 20 números se tienen **44651520 posibilidades** por fuerza bruta."
      ]
    },
    {
      "cell_type": "code",
      "metadata": {
        "id": "e5MKUjFn4YbI",
        "outputId": "607ce9bc-f120-4195-a53f-774b7f3aad59"
      },
      "source": [
        "from time import time\n",
        "import numpy as np\n",
        "\n",
        "lista_numeros=[1,2,3,4,5,6,7,8,9,10,11,12,13,14,15,16,17,18,19,20]\n",
        "numeros_introducidos=[210,100,0,-4,-8,-54]\n",
        "pruebas=[]\n",
        "print('Algoritmo fuerza bruta:\\n')\n",
        "\n",
        "start=time()\n",
        "for i in range(len(numeros_introducidos)):\n",
        "    pruebas.append(algoritmo_fuerza_bruta(lista_numeros,numeros_introducidos[i]))\n",
        "final=time()\n",
        "\n",
        "for i in range(len(numeros_introducidos)):\n",
        "    print('Numero deseado: '+str(numeros_introducidos[i])+' Iteraciones: '+str(pruebas[i][0])+' Expresión: '+str(pruebas[i][1]))\n",
        "print('Tiempo empleado: '+str(np.round(final-start,2)))"
      ],
      "execution_count": null,
      "outputs": [
        {
          "output_type": "stream",
          "text": [
            "Algoritmo fuerza bruta:\n",
            "\n",
            "Numero deseado: 210 Iteraciones: 1277189 Expresión: 1+12*18-14/2\n",
            "Numero deseado: 100 Iteraciones: 176551 Expresión: 1-3+12/2*17\n",
            "Numero deseado: 0 Iteraciones: 176 Expresión: 1-2+3*4/12\n",
            "Numero deseado: -4 Iteraciones: 868 Expresión: 1+2/3*6-9\n",
            "Numero deseado: -8 Iteraciones: 894 Expresión: 1+2*3/6-10\n",
            "Numero deseado: -54 Iteraciones: 39505 Expresión: 1+2-9/3*19\n",
            "Tiempo empleado: 11.11\n"
          ],
          "name": "stdout"
        }
      ]
    },
    {
      "cell_type": "code",
      "metadata": {
        "id": "xcW2faun4YbI",
        "outputId": "978eaebd-b071-4712-c15d-6654cf034932"
      },
      "source": [
        "from time import time\n",
        "import numpy as np\n",
        "\n",
        "lista_numeros=[1,2,3,4,5,6,7,8,9,10,11,12,13,14,15,16,17,18,19,20]\n",
        "numeros_introducidos=[210,100,0,-4,-8,-54]\n",
        "pruebas=[]\n",
        "print('Algoritmo fuerza bruta shuffle:\\n')\n",
        "\n",
        "start=time()\n",
        "for i in range(len(numeros_introducidos)):\n",
        "    pruebas.append(algoritmo_fuerza_bruta_shuffle(lista_numeros,numeros_introducidos[i]))\n",
        "final=time()\n",
        "\n",
        "for i in range(len(numeros_introducidos)):\n",
        "    print('Numero deseado: '+str(numeros_introducidos[i])+' Iteraciones: '+str(pruebas[i][0])+' Expresión: '+str(pruebas[i][1]))\n",
        "print('Tiempo empleado: '+str(np.round(final-start,2)))"
      ],
      "execution_count": null,
      "outputs": [
        {
          "output_type": "stream",
          "text": [
            "Algoritmo fuerza bruta shuffle:\n",
            "\n",
            "Numero deseado: 210 Iteraciones: 140454 Expresión: 4+13*17/1-15\n",
            "Numero deseado: 100 Iteraciones: 28399 Expresión: 20-8+16/2*11\n",
            "Numero deseado: 0 Iteraciones: 2530 Expresión: 2-7/5*15+19\n",
            "Numero deseado: -4 Iteraciones: 354 Expresión: 1/2*14-19+8\n",
            "Numero deseado: -8 Iteraciones: 5148 Expresión: 10-14*5/2+17\n",
            "Numero deseado: -54 Iteraciones: 20449 Expresión: 7+17-18/3*13\n",
            "Tiempo empleado: 1.52\n"
          ],
          "name": "stdout"
        }
      ]
    },
    {
      "cell_type": "code",
      "metadata": {
        "id": "vS_Epcam4YbI",
        "outputId": "2ff86c9e-47b7-4059-8cb8-14d2f887df23"
      },
      "source": [
        "from time import time\n",
        "import numpy as np\n",
        "\n",
        "lista_numeros=[1,2,3,4,5,6,7,8,9,10,11,12,13,14,15,16,17,18,19,20]\n",
        "numeros_introducidos=[210,100,0,-4,-8,-54]\n",
        "pruebas=[]\n",
        "print('Algoritmo ramificacion y poda:\\n')\n",
        "\n",
        "start=time()\n",
        "for i in range(len(numeros_introducidos)):\n",
        "    pruebas.append(algoritmo_ramificacion_poda(lista_numeros,numeros_introducidos[i]))\n",
        "final=time()\n",
        "\n",
        "for i in range(len(numeros_introducidos)):\n",
        "    print('Numero deseado: '+str(numeros_introducidos[i])+' Iteraciones: '+str(pruebas[i][0])+' Expresión: '+str(pruebas[i][1]))\n",
        "print('Tiempo empleado: '+str(final-start))"
      ],
      "execution_count": null,
      "outputs": [
        {
          "output_type": "stream",
          "text": [
            "Algoritmo ramificacion y poda:\n",
            "\n",
            "Numero deseado: 210 Iteraciones: 90 Expresión: 15*14-6/2+3\n",
            "Numero deseado: 100 Iteraciones: 257 Expresión: 17*5+18/1-3\n",
            "Numero deseado: 0 Iteraciones: 566 Expresión: 6*1-18/2+3\n",
            "Numero deseado: -4 Iteraciones: 71 Expresión: -7*1+6/2\n",
            "Numero deseado: -8 Iteraciones: 397 Expresión: -4*3+8/2\n",
            "Numero deseado: -54 Iteraciones: 71 Expresión: -20*3+6/1\n",
            "Tiempo empleado: 0.0009949207305908203\n"
          ],
          "name": "stdout"
        }
      ]
    },
    {
      "cell_type": "markdown",
      "metadata": {
        "id": "ibVLoklX4YbI"
      },
      "source": [
        "Queda probada la eficacia del algoritmo, ya que ha conseguido gracias a la selección de nodos de interés ser eficiente sin apreciar un notable incremento de coste computacional incluso elevando al doble la lista de posibles números a escoger."
      ]
    },
    {
      "cell_type": "markdown",
      "metadata": {
        "id": "eGDB4K6uk1iN"
      },
      "source": [
        "# 6. (*)Calcula la complejidad del algoritmo "
      ]
    },
    {
      "cell_type": "markdown",
      "metadata": {
        "id": "NhpTh_BPk1ms"
      },
      "source": [
        "El nuevo algoritmo tiene complejidad lineal, aunque tenga permutaciones reduce mucho la búsqueda con la selección de nodosd e interés."
      ]
    },
    {
      "cell_type": "markdown",
      "metadata": {
        "id": "3M6QjTsSkmYe"
      },
      "source": [
        "# 7. Según el problema (y tenga sentido), diseña un juego de datos de entrada aleatorios"
      ]
    },
    {
      "cell_type": "markdown",
      "metadata": {
        "id": "Jc3_OlyNkvjZ"
      },
      "source": [
        "En este problema no tiene tanto sentido generar un juego de datos de entrada aleatorio. Lo que se ha hecho para trabajar este apartado es diseñar el algoritmo de fuerza bruta shuffle. "
      ]
    },
    {
      "cell_type": "markdown",
      "metadata": {
        "id": "kAkDPUyRtYyH"
      },
      "source": [
        " # 8. Describe brevemente las lineas de como crees que es posible avanzar en el estudio del problema. Ten en cuenta incluso posibles variaciones del problema y/o variaciones al alza del tamaño"
      ]
    },
    {
      "cell_type": "markdown",
      "metadata": {
        "id": "IE0uZmo-tZu-"
      },
      "source": [
        "Creo que sería interesante estudiar la posibilidad de descartar algunas permutaciones que se sabe que no van a ser de interés. Por ejemplo, si se prueba la combinación para la división 1/2 se sabe que no es válida ni tampoco lo serán 1/3, 1/4 .. ya que está garantizado que no será una división entera. Se podría estudiar la posibilidad de que el bucle for no planteara la posibilidad de esas permutaciones, aunque en el algoritmo diseñado se comprueba que no son válidas y no se tienen en cuenta."
      ]
    },
    {
      "cell_type": "code",
      "metadata": {
        "id": "39-A99H54YbJ"
      },
      "source": [
        ""
      ],
      "execution_count": null,
      "outputs": []
    }
  ]
}