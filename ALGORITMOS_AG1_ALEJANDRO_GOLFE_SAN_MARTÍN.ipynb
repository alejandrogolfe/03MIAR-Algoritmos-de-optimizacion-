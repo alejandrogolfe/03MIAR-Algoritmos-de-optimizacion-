{
  "nbformat": 4,
  "nbformat_minor": 0,
  "metadata": {
    "colab": {
      "name": "ALGORITMOS AG1-ALEJANDRO GOLFE SAN MARTÍN.ipynb",
      "provenance": [],
      "collapsed_sections": [],
      "include_colab_link": true
    },
    "kernelspec": {
      "display_name": "Python 3",
      "language": "python",
      "name": "python3"
    },
    "language_info": {
      "codemirror_mode": {
        "name": "ipython",
        "version": 3
      },
      "file_extension": ".py",
      "mimetype": "text/x-python",
      "name": "python",
      "nbconvert_exporter": "python",
      "pygments_lexer": "ipython3",
      "version": "3.7.4"
    }
  },
  "cells": [
    {
      "cell_type": "markdown",
      "metadata": {
        "id": "view-in-github",
        "colab_type": "text"
      },
      "source": [
        "<a href=\"https://colab.research.google.com/github/alejandrogolfe/03MIAR-Algoritmos-de-optimizacion-/blob/main/ALGORITMOS_AG1_ALEJANDRO_GOLFE_SAN_MART%C3%8DN.ipynb\" target=\"_parent\"><img src=\"https://colab.research.google.com/assets/colab-badge.svg\" alt=\"Open In Colab\"/></a>"
      ]
    },
    {
      "cell_type": "markdown",
      "metadata": {
        "id": "GG2D6vLdYwwy"
      },
      "source": [
        "Actividad Guiada 1 de Algoritmos de Optimizacion\n",
        "\n",
        "Nombre: ALEJANDRO GOLFE SAN MARTÍN\n",
        "\n",
        "https://drive.google.com/file/d/1XGsYfBTVsXw8ML_2KJRbTPe-JwR1lJAG/view?usp=sharing\n",
        "\n",
        "https://github.com/alejandrogolfe/03MIAR-Algoritmos-de-optimizacion-"
      ]
    },
    {
      "cell_type": "code",
      "metadata": {
        "id": "rTiqLuX2ZKuL",
        "outputId": "4ece3b08-3b46-4890-b857-cd1c0680a721"
      },
      "source": [
        "#Torres de Hanoi - Divide y venceras\n",
        "################################################################################\n",
        "\n",
        "\n",
        "################################################################\n",
        "def Torres_Hanoi(N, desde, hasta):\n",
        "    if N==1: \n",
        "        print(\"Mueve desde torre \",desde,\" hasta torre \",hasta)\n",
        "    else: \n",
        "        Torres_Hanoi(N-1, desde, 6-desde-hasta)\n",
        "        print(\"Mueve desde torre \",desde,\" hasta torre \",hasta)\n",
        "        Torres_Hanoi(N-1, 6-desde-hasta, hasta)\n",
        "\n",
        "        \n",
        "Torres_Hanoi(3,1,3)\n",
        "    \n",
        "\n",
        "\n",
        "################################################################"
      ],
      "execution_count": null,
      "outputs": [
        {
          "output_type": "stream",
          "text": [
            "Mueve desde torre  1  hasta torre  3\n",
            "Mueve desde torre  1  hasta torre  2\n",
            "Mueve desde torre  3  hasta torre  2\n",
            "Mueve desde torre  1  hasta torre  3\n",
            "Mueve desde torre  2  hasta torre  1\n",
            "Mueve desde torre  2  hasta torre  3\n",
            "Mueve desde torre  1  hasta torre  3\n"
          ],
          "name": "stdout"
        }
      ]
    },
    {
      "cell_type": "code",
      "metadata": {
        "id": "UTL6wiczQVDA"
      },
      "source": [
        ""
      ],
      "execution_count": null,
      "outputs": []
    },
    {
      "cell_type": "code",
      "metadata": {
        "id": "YwBudj2hYoMR",
        "outputId": "d17a1f58-082d-4ec4-f2b1-004fd64f824b"
      },
      "source": [
        "#Cambio de monedas - Técnica voraz\n",
        "################################################################################\n",
        "\n",
        "################################################################\n",
        "def cambio_monedas(CANTIDAD,SISTEMA):\n",
        "    VALOR_ACUMULADO=0\n",
        "    SOLUCION= [0 for i in range(len(SISTEMA))]\n",
        "    \n",
        "    for i in range(len(SISTEMA)):\n",
        "        \n",
        "        monedas=(CANTIDAD-VALOR_ACUMULADO)//SISTEMA[i]\n",
        "        SOLUCION[i]=monedas\n",
        "        VALOR_ACUMULADO=VALOR_ACUMULADO + SISTEMA[i]*monedas\n",
        "        \n",
        "        if(VALOR_ACUMULADO==CANTIDAD):\n",
        "            return SOLUCION\n",
        "    if (VALOR_ACUMULADO!=CANTIDAD):\n",
        "        print(\"No hay solución\")\n",
        "    else:\n",
        "        return SOLUCION\n",
        "    \n",
        "\n",
        "SISTEMA=sorted([500,100,5,1],reverse=True)\n",
        "\n",
        "cambio_monedas(58554,SISTEMA)\n",
        "\n",
        "\n",
        "################################################################"
      ],
      "execution_count": null,
      "outputs": [
        {
          "output_type": "execute_result",
          "data": {
            "text/plain": [
              "[117, 0, 10, 4]"
            ]
          },
          "metadata": {
            "tags": []
          },
          "execution_count": 16
        }
      ]
    },
    {
      "cell_type": "code",
      "metadata": {
        "id": "9toJ4WjhQUNj"
      },
      "source": [
        ""
      ],
      "execution_count": null,
      "outputs": []
    },
    {
      "cell_type": "code",
      "metadata": {
        "id": "H4Iwt2XRZTFr",
        "outputId": "6a4e84d8-565b-4c40-fce0-affc932f7d7a"
      },
      "source": [
        "#N Reinas - Vuelta Atrás()\n",
        "################################################################################\n",
        "\n",
        "#Verifica que en la solución parcial no hay amenzas entre reinas\n",
        "################################################################\n",
        "def es_prometedora(SOLUCION,etapa):\n",
        "################################################################\n",
        "  #print(SOLUCION)\n",
        "  #Si la solución tiene dos valores iguales no es valida => Dos reinas en la misma fila\n",
        "  for i in range(etapa+1):\n",
        "    #print(\"El valor \" + str(SOLUCION[i]) + \" está \" +  str(SOLUCION.count(SOLUCION[i])) + \" veces\")\n",
        "    if SOLUCION.count(SOLUCION[i]) > 1:       \n",
        "      return False\n",
        "  \n",
        "    #Verifica las diagonales\n",
        "    for j in range(i+1, etapa +1 ):\n",
        "      #print(\"Comprobando diagonal de \" + str(i) + \" y \" + str(j))\n",
        "      if abs(i-j) == abs(SOLUCION[i]-SOLUCION[j]) : return False\n",
        "  return True\n",
        "\n",
        "#Traduce la solución al tablero\n",
        "################################################################\n",
        "def escribe_solucion(S):\n",
        "################################################################\n",
        "  n = len(S)\n",
        "  for x in range(n):\n",
        "    print(\"\")\n",
        "    for i in range(n):\n",
        "      if S[i] == x+1:\n",
        "        print(\" X \" , end=\"\")\n",
        "      else:\n",
        "        print(\" - \", end=\"\")\n",
        "\n",
        "\n",
        "\n",
        "#Proceso principal de N-Reinas\n",
        "################################################################\n",
        "def reinas(N,solucion=[],etapa=0): \n",
        "    if len(solucion)==0:\n",
        "        solucion=[0 for i in range(N)]\n",
        "    \n",
        "    for i in range (1, N+1):\n",
        "        solucion[etapa]=i\n",
        "        \n",
        "        if es_prometedora(solucion,etapa):\n",
        "            if etapa == N-1:\n",
        "                print(\"La solución es \", solucion)\n",
        "                escribe_solucion(solucion)\n",
        "            else: \n",
        "                reinas(N,solucion,etapa+1)\n",
        "        else:\n",
        "            None\n",
        "        solucion[etapa]=0\n",
        "        \n",
        "                    \n",
        "\n",
        "reinas(4,solucion=[],etapa=0)"
      ],
      "execution_count": null,
      "outputs": [
        {
          "output_type": "stream",
          "text": [
            "La solución es  [2, 4, 1, 3]\n",
            "\n",
            " -  -  X  - \n",
            " X  -  -  - \n",
            " -  -  -  X \n",
            " -  X  -  - La solución es  [3, 1, 4, 2]\n",
            "\n",
            " -  X  -  - \n",
            " -  -  -  X \n",
            " X  -  -  - \n",
            " -  -  X  - "
          ],
          "name": "stdout"
        }
      ]
    }
  ]
}